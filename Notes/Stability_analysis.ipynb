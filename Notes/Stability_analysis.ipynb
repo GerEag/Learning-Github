{
 "cells": [
  {
   "cell_type": "markdown",
   "metadata": {},
   "source": [
    "# Stability Analysis\n",
    "\n",
    "## Lyapunov\n",
    "\n",
    "## Input-Output\n",
    "\n",
    "## Operator-theoretic techniques\n",
    "\n",
    "### Koopman Operators\n",
    "\n",
    "Koopman operators are linear, but infinite dimensional, so they work well on nonlinear systems and are amenable to systematic spectral analysis. They can be used to analyze the global linearization of the system.\n",
    "\n",
    "Dynamic systems can be represented using the Koopman operator, $U^t$. The dynamic system model is:\n",
    "\n",
    "$U^tf=f\\circ\\gamma^t$\n",
    "\n",
    "The $\\circ$ symbol represents the composition of two functions (I think). The above model is (apparently) equivalent to:\n",
    "\n",
    "$\\dot{x}=F(x)$\n",
    "\n",
    "The solution of the above differential equation can (apparently) be represented as $g(t,x)=U^tf(x)$\n",
    "\n",
    "### Perron-Frobenius\n",
    "\n",
    "## Numerical Methods\n"
   ]
  },
  {
   "cell_type": "markdown",
   "metadata": {},
   "source": [
    "# References\n",
    "\n",
    "A. Mauroy and I. Mezić, \"Global Stability Analysis Using the Eigenfunctions of the Koopman Operator,\" in IEEE Transactions on Automatic Control, vol. 61, no. 11, pp. 3356-3369, Nov. 2016, doi: 10.1109/TAC.2016.2518918."
   ]
  }
 ],
 "metadata": {
  "kernelspec": {
   "display_name": "Python 3.9.12 ('RL_SB')",
   "language": "python",
   "name": "python3"
  },
  "language_info": {
   "name": "python",
   "version": "3.9.12"
  },
  "orig_nbformat": 4,
  "vscode": {
   "interpreter": {
    "hash": "e64f684287bb1046aa9c312a8d9f57463ed463fe5a019b551aad9cb1c0e7d28a"
   }
  }
 },
 "nbformat": 4,
 "nbformat_minor": 2
}
