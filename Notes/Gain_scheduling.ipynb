{
 "cells": [
  {
   "cell_type": "markdown",
   "metadata": {},
   "source": [
    "# Gain Scheduling\n",
    "\n",
    "## Scheduling variable\n",
    "Generally, the scheduling variable should vary slowly and capture the significant nonlinearities in the plant.\n",
    "\n",
    "## Early \"Classical\" gain scheduling\n",
    "Separate setpoints are selected to generate linear approximations. The control gains are selected to have desireable behavior around that setpoint. When the system is moving to a different setpoint, the control gains are interpolated based on scheduling variable. This is different from selecting \n",
    "\n",
    "## Linearization-based scheduling\n",
    "\n",
    "## Linear parameter-varying (LPV)\n",
    "Continuously varies system gains based on value of a scheduling signal."
   ]
  },
  {
   "cell_type": "markdown",
   "metadata": {},
   "source": [
    "## Stability\n",
    "\n",
    "The earliest and simplest way to guarantee stability when gain scheduling is to ensure that the scheduling variable varies slowly. For the case of switched systems, it is important that the system switch infrequently enough to ensure the transient behavior adequately dies out. As far as I can tell, the theoretical guarantee is only for unvarying scheduling variable or no switching. Practical limits depend on the system.\n",
    "\n",
    "Global stability can also be guaranteed by finding piecewise Lyapunov functions. In general, stability for a subregion of state-space (potentially global) is guaranteed provided a Lyapunov function, $V(x)$, can be found such that:\n",
    "\n",
    "$V(x)\\geq 0, \\ \\forall x\\neq 0 \\quad$ and $\\quad V(0)=0$\n",
    "\n",
    "$\\dot{V}(x)\\leq 0, \\ \\forall x\\neq0 \\quad$ and $\\quad \\dot{V}(0)=0$\n",
    "\n",
    "I.e. the Lyapunov function must be at least positive semi-definite and the derivative of the Lyapunov function must be at least negative semi-definite. A globally continuous Lyapunov function is often used to determine system stability. For gain scheduling, a piecewise model can be generated for the system and controller such that a piecewise Lyapunov function can be generated. If the Lyapunov conditions are satisfied for the sub-system/subregion of state space, the system is stable about the desired equilibrium.\n",
    "\n",
    "This can be done using several methods. Global stability is guaranteed as (opposed to local stability) if using the same coordinate system or state-space for each Lyapunov function. If Lyapunov conditions are satisfied for each subsystem, switched system or subregion of the state-space, global stability is achieved."
   ]
  },
  {
   "cell_type": "markdown",
   "metadata": {},
   "source": [
    "# Switched System\n",
    "A system utilizing gain scheduled control with a discrete scheduling variable may be more accurately modeled as a switched system.\n",
    "\n",
    "## Stability of Switched Systems\n"
   ]
  },
  {
   "cell_type": "markdown",
   "metadata": {},
   "source": [
    "# References\n",
    "Rugh, Shamma, \"Research on gain scheduling\" Automatica 2000\n",
    "\n",
    "J. S. Shamma and M. Athans, \"Analysis of gain scheduled control for nonlinear plants,\" in IEEE Transactions on Automatic Control, vol. 35, no. 8, pp. 898-907, Aug. 1990, doi: 10.1109/9.58498.\n",
    "\n",
    "D. Liberzon and A. S. Morse, \"Basic problems in stability and design of switched systems,\" in IEEE Control Systems Magazine, vol. 19, no. 5, pp. 59-70, Oct. 1999, doi: 10.1109/37.793443.\n",
    "\n",
    "J. Daafouz, P. Riedinger and C. Iung, \"Stability analysis and control synthesis for switched systems: a switched Lyapunov function approach,\" in IEEE Transactions on Automatic Control, vol. 47, no. 11, pp. 1883-1887, Nov. 2002, doi: 10.1109/TAC.2002.804474."
   ]
  },
  {
   "cell_type": "code",
   "execution_count": null,
   "metadata": {},
   "outputs": [],
   "source": []
  }
 ],
 "metadata": {
  "language_info": {
   "name": "python"
  },
  "orig_nbformat": 4
 },
 "nbformat": 4,
 "nbformat_minor": 2
}
