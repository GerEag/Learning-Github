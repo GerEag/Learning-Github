{
 "cells": [
  {
   "cell_type": "markdown",
   "metadata": {},
   "source": [
    "# RL for Games\n",
    "\n",
    "## Atari\n",
    "There are hundreds of Atari games that have environments used to evaluate building agents with general intelligence [1].\n",
    "\n",
    "DQN achieved performance comparible to  professional human game tester level across 49 Atari 2600 games (some actually performed very poorly compared to human, but 29 performed 75% of human level or better) [2]. Many performed much better than humans. All examples used the same convolutional convolutional neural network and hyperparameters. The agents were able to learn from pixel data/video.\n",
    "\n",
    "## ViZDoom\n",
    "\n",
    "## StarCraft\n",
    "\n",
    "## Dota2\n",
    "\n",
    "## Go\n",
    "\n"
   ]
  },
  {
   "cell_type": "markdown",
   "metadata": {},
   "source": [
    "# References"
   ]
  },
  {
   "cell_type": "markdown",
   "metadata": {},
   "source": [
    "[1] Shao, K., Tang, Z., Zhu, Y., Li, N., and Zhao, D., “A Survey of Deep Reinforcement Learning in Video Games”, <i>arXiv e-prints</i>, 2019.\n",
    "\n",
    "[2] Mnih, V., Kavukcuoglu, K., Silver, D. et al. Human-level control through deep reinforcement learning. Nature 518, 529–533 (2015). https://doi.org/10.1038/nature14236\n"
   ]
  }
 ],
 "metadata": {
  "language_info": {
   "name": "python"
  },
  "orig_nbformat": 4
 },
 "nbformat": 4,
 "nbformat_minor": 2
}
