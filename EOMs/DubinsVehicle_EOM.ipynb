{
 "cells": [
  {
   "cell_type": "markdown",
   "id": "e393602f",
   "metadata": {},
   "source": [
    "# Equations of Motion for a Dubins Vehicle"
   ]
  },
  {
   "cell_type": "code",
   "execution_count": 1,
   "id": "d8512cd9",
   "metadata": {},
   "outputs": [],
   "source": [
    "from sympy import symbols, cos, sin\n",
    "from sympy.physics.mechanics import dynamicsymbols, ReferenceFrame, Point, Particle, KanesMethod"
   ]
  },
  {
   "cell_type": "code",
   "execution_count": 2,
   "id": "4d149c47",
   "metadata": {},
   "outputs": [],
   "source": [
    "x, y, th, ux, uy, uth = dynamicsymbols('x y theta ux uy u_theta') # generalized coordinates and velocities\n",
    "xdot, ydot, thdot, uxdot, uydot, uthdot = dynamicsymbols('x y theta ux uy u_theta', 1) # derivatives of gen. coor. and vel.\n",
    "m = symbols('m') # mass of the particle\n",
    "\n",
    "# position, velocity, and acceleration commands\n",
    "th_com = dynamicsymbols('pc')\n",
    "thdot_com = dynamicsymbols('pc', 1)\n",
    "thddot_com = dynamicsymbols('pc', 2)\n",
    "\n",
    "bf_speed = dynamicsymbols('sp')\n",
    "# f = dynamicsymbols('f')\n",
    "\n",
    "N = ReferenceFrame('N')\n",
    "TF = N.orientnew('TF', 'Axis', [th, N.z]) # frame for direction of travel\n",
    "TF.set_ang_vel(N, uth * N.z) # cable 1 rotates at ang vel. of u2 about N.z\n",
    "P = Point('P') # point defining the particle\n",
    "\n",
    "# P.set_vel(N,ux*N.x)\n",
    "P.set_vel(N, (ux**2+uy**2)**(1/2)*TF.x)\n",
    "\n",
    "kd = [xdot - ux, ydot - uy, thdot - uth] # kinematic differential equation\n",
    "\n",
    "# Define constraints\n",
    "conf_const = [th - th_com] # configuration constraints\n",
    "vel_const = [bf_speed*cos(th)-ux, bf_speed*sin(th)-uy, uth - thdot_com] # velocity constraints\n",
    "acc_const = [uxdot - thddot_com] # acceleration constraints\n",
    "\n",
    "pa = Particle('pa',P,m)\n",
    "# FL = [(P,f*N.x)] # force list\n",
    "BL = [pa] # body list\n"
   ]
  },
  {
   "cell_type": "code",
   "execution_count": 3,
   "id": "6366a5f6",
   "metadata": {},
   "outputs": [
    {
     "ename": "TypeError",
     "evalue": "__init__() missing 1 required positional argument: 'u_ind'",
     "output_type": "error",
     "traceback": [
      "\u001b[0;31m---------------------------------------------------------------------------\u001b[0m",
      "\u001b[0;31mTypeError\u001b[0m                                 Traceback (most recent call last)",
      "\u001b[0;32m/var/folders/lc/2zq7svpj38199h6rbhg02tcr0000gp/T/ipykernel_56275/2609004454.py\u001b[0m in \u001b[0;36m<module>\u001b[0;34m\u001b[0m\n\u001b[1;32m      1\u001b[0m \u001b[0;31m# KM = KanesMethod(N, q_ind=[x], u_ind=[ux], kd_eqs=kd)\u001b[0m\u001b[0;34m\u001b[0m\u001b[0;34m\u001b[0m\u001b[0m\n\u001b[1;32m      2\u001b[0m \u001b[0;31m# KM = KanesMethod(N, q_ind=[x, y], u_ind=[ux, uy], kd_eqs=kd, q_dependent=[th], configuration_constraints=conf_const, u_dependent=[uth], velocity_constraints=vel_const, acceleration_constraints=acc_const)\u001b[0m\u001b[0;34m\u001b[0m\u001b[0;34m\u001b[0m\u001b[0m\n\u001b[0;32m----> 3\u001b[0;31m \u001b[0mKM\u001b[0m \u001b[0;34m=\u001b[0m \u001b[0mKanesMethod\u001b[0m\u001b[0;34m(\u001b[0m\u001b[0mN\u001b[0m\u001b[0;34m,\u001b[0m \u001b[0mq_ind\u001b[0m\u001b[0;34m=\u001b[0m\u001b[0;34m[\u001b[0m\u001b[0mx\u001b[0m\u001b[0;34m,\u001b[0m \u001b[0my\u001b[0m\u001b[0;34m]\u001b[0m\u001b[0;34m,\u001b[0m \u001b[0mkd_eqs\u001b[0m\u001b[0;34m=\u001b[0m\u001b[0mkd\u001b[0m\u001b[0;34m,\u001b[0m \u001b[0mq_dependent\u001b[0m\u001b[0;34m=\u001b[0m\u001b[0;34m[\u001b[0m\u001b[0mth\u001b[0m\u001b[0;34m]\u001b[0m\u001b[0;34m,\u001b[0m \u001b[0mconfiguration_constraints\u001b[0m\u001b[0;34m=\u001b[0m\u001b[0mconf_const\u001b[0m\u001b[0;34m,\u001b[0m \u001b[0mu_dependent\u001b[0m\u001b[0;34m=\u001b[0m\u001b[0;34m[\u001b[0m\u001b[0mux\u001b[0m\u001b[0;34m,\u001b[0m \u001b[0muy\u001b[0m\u001b[0;34m,\u001b[0m \u001b[0muth\u001b[0m\u001b[0;34m]\u001b[0m\u001b[0;34m,\u001b[0m \u001b[0mvelocity_constraints\u001b[0m\u001b[0;34m=\u001b[0m\u001b[0mvel_const\u001b[0m\u001b[0;34m)\u001b[0m\u001b[0;34m\u001b[0m\u001b[0;34m\u001b[0m\u001b[0m\n\u001b[0m\u001b[1;32m      4\u001b[0m \u001b[0;34m(\u001b[0m\u001b[0mfr\u001b[0m\u001b[0;34m,\u001b[0m \u001b[0mfrstar\u001b[0m\u001b[0;34m)\u001b[0m \u001b[0;34m=\u001b[0m \u001b[0mKM\u001b[0m\u001b[0;34m.\u001b[0m\u001b[0mkanes_equations\u001b[0m\u001b[0;34m(\u001b[0m\u001b[0mBL\u001b[0m\u001b[0;34m)\u001b[0m\u001b[0;34m\u001b[0m\u001b[0;34m\u001b[0m\u001b[0m\n",
      "\u001b[0;31mTypeError\u001b[0m: __init__() missing 1 required positional argument: 'u_ind'"
     ]
    }
   ],
   "source": [
    "# KM = KanesMethod(N, q_ind=[x], u_ind=[ux], kd_eqs=kd)\n",
    "# KM = KanesMethod(N, q_ind=[x, y], u_ind=[ux, uy], kd_eqs=kd, q_dependent=[th], configuration_constraints=conf_const, u_dependent=[uth], velocity_constraints=vel_const, acceleration_constraints=acc_const)\n",
    "KM = KanesMethod(N, q_ind=[x, y], kd_eqs=kd, q_dependent=[th], configuration_constraints=conf_const, u_dependent=[ux, uy, uth], velocity_constraints=vel_const)\n",
    "(fr, frstar) = KM.kanes_equations(BL)"
   ]
  },
  {
   "cell_type": "code",
   "execution_count": 4,
   "id": "1cb70308",
   "metadata": {},
   "outputs": [
    {
     "ename": "NonInvertibleMatrixError",
     "evalue": "Matrix det == 0; not invertible.",
     "output_type": "error",
     "traceback": [
      "\u001b[0;31m---------------------------------------------------------------------------\u001b[0m",
      "\u001b[0;31mValueError\u001b[0m                                Traceback (most recent call last)",
      "\u001b[0;32m~/opt/anaconda3/lib/python3.9/site-packages/sympy/matrices/solvers.py\u001b[0m in \u001b[0;36m_LUsolve\u001b[0;34m(M, rhs, iszerofunc)\u001b[0m\n\u001b[1;32m    339\u001b[0m     \u001b[0;32mtry\u001b[0m\u001b[0;34m:\u001b[0m\u001b[0;34m\u001b[0m\u001b[0;34m\u001b[0m\u001b[0m\n\u001b[0;32m--> 340\u001b[0;31m         A, perm = M.LUdecomposition_Simple(\n\u001b[0m\u001b[1;32m    341\u001b[0m             iszerofunc=_iszero, rankcheck=True)\n",
      "\u001b[0;32m~/opt/anaconda3/lib/python3.9/site-packages/sympy/matrices/matrices.py\u001b[0m in \u001b[0;36mLUdecomposition_Simple\u001b[0;34m(self, iszerofunc, simpfunc, rankcheck)\u001b[0m\n\u001b[1;32m   2146\u001b[0m             rankcheck=False):\n\u001b[0;32m-> 2147\u001b[0;31m         return _LUdecomposition_Simple(self, iszerofunc=iszerofunc,\n\u001b[0m\u001b[1;32m   2148\u001b[0m                 simpfunc=simpfunc, rankcheck=rankcheck)\n",
      "\u001b[0;32m~/opt/anaconda3/lib/python3.9/site-packages/sympy/matrices/decompositions.py\u001b[0m in \u001b[0;36m_LUdecomposition_Simple\u001b[0;34m(M, iszerofunc, simpfunc, rankcheck)\u001b[0m\n\u001b[1;32m    981\u001b[0m             \u001b[0;31m# ValueError.\u001b[0m\u001b[0;34m\u001b[0m\u001b[0;34m\u001b[0m\u001b[0m\n\u001b[0;32m--> 982\u001b[0;31m             raise ValueError(\"Rank of matrix is strictly less than\"\n\u001b[0m\u001b[1;32m    983\u001b[0m                                 \u001b[0;34m\" number of rows or columns.\"\u001b[0m\u001b[0;34m\u001b[0m\u001b[0;34m\u001b[0m\u001b[0m\n",
      "\u001b[0;31mValueError\u001b[0m: Rank of matrix is strictly less than number of rows or columns. Pass keyword argument rankcheck=False to compute the LU decomposition of this matrix.",
      "\nDuring handling of the above exception, another exception occurred:\n",
      "\u001b[0;31mNonInvertibleMatrixError\u001b[0m                  Traceback (most recent call last)",
      "\u001b[0;32m/var/folders/lc/2zq7svpj38199h6rbhg02tcr0000gp/T/ipykernel_56001/1901319345.py\u001b[0m in \u001b[0;36m<module>\u001b[0;34m\u001b[0m\n\u001b[0;32m----> 1\u001b[0;31m \u001b[0mKM\u001b[0m\u001b[0;34m.\u001b[0m\u001b[0mrhs\u001b[0m\u001b[0;34m(\u001b[0m\u001b[0;34m)\u001b[0m\u001b[0;34m\u001b[0m\u001b[0;34m\u001b[0m\u001b[0m\n\u001b[0m",
      "\u001b[0;32m~/opt/anaconda3/lib/python3.9/site-packages/sympy/physics/mechanics/kane.py\u001b[0m in \u001b[0;36mrhs\u001b[0;34m(self, inv_method)\u001b[0m\n\u001b[1;32m    590\u001b[0m \u001b[0;34m\u001b[0m\u001b[0m\n\u001b[1;32m    591\u001b[0m         \u001b[0;32mif\u001b[0m \u001b[0minv_method\u001b[0m \u001b[0;32mis\u001b[0m \u001b[0;32mNone\u001b[0m\u001b[0;34m:\u001b[0m\u001b[0;34m\u001b[0m\u001b[0;34m\u001b[0m\u001b[0m\n\u001b[0;32m--> 592\u001b[0;31m             \u001b[0mrhs\u001b[0m\u001b[0;34m[\u001b[0m\u001b[0mlen\u001b[0m\u001b[0;34m(\u001b[0m\u001b[0mself\u001b[0m\u001b[0;34m.\u001b[0m\u001b[0mq\u001b[0m\u001b[0;34m)\u001b[0m\u001b[0;34m:\u001b[0m\u001b[0;34m,\u001b[0m \u001b[0;36m0\u001b[0m\u001b[0;34m]\u001b[0m \u001b[0;34m=\u001b[0m \u001b[0mself\u001b[0m\u001b[0;34m.\u001b[0m\u001b[0mmass_matrix\u001b[0m\u001b[0;34m.\u001b[0m\u001b[0mLUsolve\u001b[0m\u001b[0;34m(\u001b[0m\u001b[0mself\u001b[0m\u001b[0;34m.\u001b[0m\u001b[0mforcing\u001b[0m\u001b[0;34m)\u001b[0m\u001b[0;34m\u001b[0m\u001b[0;34m\u001b[0m\u001b[0m\n\u001b[0m\u001b[1;32m    593\u001b[0m         \u001b[0;32melse\u001b[0m\u001b[0;34m:\u001b[0m\u001b[0;34m\u001b[0m\u001b[0;34m\u001b[0m\u001b[0m\n\u001b[1;32m    594\u001b[0m             rhs[len(self.q):, 0] = (self.mass_matrix.inv(inv_method,\n",
      "\u001b[0;32m~/opt/anaconda3/lib/python3.9/site-packages/sympy/matrices/matrices.py\u001b[0m in \u001b[0;36mLUsolve\u001b[0;34m(self, rhs, iszerofunc)\u001b[0m\n\u001b[1;32m   2176\u001b[0m \u001b[0;34m\u001b[0m\u001b[0m\n\u001b[1;32m   2177\u001b[0m     \u001b[0;32mdef\u001b[0m \u001b[0mLUsolve\u001b[0m\u001b[0;34m(\u001b[0m\u001b[0mself\u001b[0m\u001b[0;34m,\u001b[0m \u001b[0mrhs\u001b[0m\u001b[0;34m,\u001b[0m \u001b[0miszerofunc\u001b[0m\u001b[0;34m=\u001b[0m\u001b[0m_iszero\u001b[0m\u001b[0;34m)\u001b[0m\u001b[0;34m:\u001b[0m\u001b[0;34m\u001b[0m\u001b[0;34m\u001b[0m\u001b[0m\n\u001b[0;32m-> 2178\u001b[0;31m         \u001b[0;32mreturn\u001b[0m \u001b[0m_LUsolve\u001b[0m\u001b[0;34m(\u001b[0m\u001b[0mself\u001b[0m\u001b[0;34m,\u001b[0m \u001b[0mrhs\u001b[0m\u001b[0;34m,\u001b[0m \u001b[0miszerofunc\u001b[0m\u001b[0;34m=\u001b[0m\u001b[0miszerofunc\u001b[0m\u001b[0;34m)\u001b[0m\u001b[0;34m\u001b[0m\u001b[0;34m\u001b[0m\u001b[0m\n\u001b[0m\u001b[1;32m   2179\u001b[0m \u001b[0;34m\u001b[0m\u001b[0m\n\u001b[1;32m   2180\u001b[0m     \u001b[0;32mdef\u001b[0m \u001b[0mQRsolve\u001b[0m\u001b[0;34m(\u001b[0m\u001b[0mself\u001b[0m\u001b[0;34m,\u001b[0m \u001b[0mb\u001b[0m\u001b[0;34m)\u001b[0m\u001b[0;34m:\u001b[0m\u001b[0;34m\u001b[0m\u001b[0;34m\u001b[0m\u001b[0m\n",
      "\u001b[0;32m~/opt/anaconda3/lib/python3.9/site-packages/sympy/matrices/solvers.py\u001b[0m in \u001b[0;36m_LUsolve\u001b[0;34m(M, rhs, iszerofunc)\u001b[0m\n\u001b[1;32m    341\u001b[0m             iszerofunc=_iszero, rankcheck=True)\n\u001b[1;32m    342\u001b[0m     \u001b[0;32mexcept\u001b[0m \u001b[0mValueError\u001b[0m\u001b[0;34m:\u001b[0m\u001b[0;34m\u001b[0m\u001b[0;34m\u001b[0m\u001b[0m\n\u001b[0;32m--> 343\u001b[0;31m         \u001b[0;32mraise\u001b[0m \u001b[0mNonInvertibleMatrixError\u001b[0m\u001b[0;34m(\u001b[0m\u001b[0;34m\"Matrix det == 0; not invertible.\"\u001b[0m\u001b[0;34m)\u001b[0m\u001b[0;34m\u001b[0m\u001b[0;34m\u001b[0m\u001b[0m\n\u001b[0m\u001b[1;32m    344\u001b[0m \u001b[0;34m\u001b[0m\u001b[0m\n\u001b[1;32m    345\u001b[0m     \u001b[0mdps\u001b[0m \u001b[0;34m=\u001b[0m \u001b[0m_get_intermediate_simp\u001b[0m\u001b[0;34m(\u001b[0m\u001b[0;34m)\u001b[0m\u001b[0;34m\u001b[0m\u001b[0;34m\u001b[0m\u001b[0m\n",
      "\u001b[0;31mNonInvertibleMatrixError\u001b[0m: Matrix det == 0; not invertible."
     ]
    }
   ],
   "source": [
    "KM.rhs()"
   ]
  },
  {
   "cell_type": "code",
   "execution_count": null,
   "id": "654074c8",
   "metadata": {},
   "outputs": [],
   "source": []
  }
 ],
 "metadata": {
  "kernelspec": {
   "display_name": "Python 3 (ipykernel)",
   "language": "python",
   "name": "python3"
  },
  "language_info": {
   "codemirror_mode": {
    "name": "ipython",
    "version": 3
   },
   "file_extension": ".py",
   "mimetype": "text/x-python",
   "name": "python",
   "nbconvert_exporter": "python",
   "pygments_lexer": "ipython3",
   "version": "3.9.7"
  },
  "toc": {
   "base_numbering": 1,
   "nav_menu": {},
   "number_sections": true,
   "sideBar": true,
   "skip_h1_title": false,
   "title_cell": "Table of Contents",
   "title_sidebar": "Contents",
   "toc_cell": false,
   "toc_position": {},
   "toc_section_display": true,
   "toc_window_display": true
  }
 },
 "nbformat": 4,
 "nbformat_minor": 5
}
