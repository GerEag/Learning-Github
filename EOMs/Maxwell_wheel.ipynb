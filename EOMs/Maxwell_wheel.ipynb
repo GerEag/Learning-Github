{
 "cells": [
  {
   "cell_type": "code",
   "execution_count": 1,
   "id": "243d1d53",
   "metadata": {},
   "outputs": [],
   "source": [
    "from sympy import symbols, cos, sin, sign\n",
    "from sympy.physics.mechanics import dynamicsymbols, ReferenceFrame, Point, RigidBody, outer, KanesMethod\n",
    "from sympy.physics.mechanics import inertia"
   ]
  },
  {
   "cell_type": "markdown",
   "id": "19ca1987",
   "metadata": {},
   "source": [
    "## Free-floating Model\n",
    "\n",
    "Maxwell wheel is modelled as a free floating wheel, where the moment from the tension force is represented as a pure torque on the center of mass.\n",
    "\n",
    "It kind of fudges the derivation; sympy thinks inertia is defined about zero velocity mass center, but you have to pass it inertia defined about zero velocity point on rope for accurate simulation."
   ]
  },
  {
   "cell_type": "code",
   "execution_count": 2,
   "id": "dca2c01f",
   "metadata": {},
   "outputs": [],
   "source": [
    "th, uth = dynamicsymbols('theta u_theta') # generalized coordinates and velocities\n",
    "thdot, uthdot = dynamicsymbols('theta u_theta', 1) # derivatives of gen. coor. and vel.\n",
    "m, g, r, I = symbols('m g r I') # mass of the wheel\n",
    "\n",
    "N = ReferenceFrame('N') # Define the reference frame for the wheel\n",
    "# x is downward, z aligned along wheel's center of rotation\n",
    "A = N.orientnew('A', 'Axis', [th, N.z]) # wheel body-fixed frame\n",
    "A.set_ang_vel(N, uth * N.z) # wheel rotates at ang vel. of uth with respect to N.z\n",
    "\n",
    "MC = Point('MC') # Define mass center of wheel\n",
    "MC.set_vel(N,0) # Set velocity of mass center\n",
    "\n",
    "INERTIA = inertia(A,0,0,I) # inertia about the center of mass\n",
    "W = RigidBody('W', MC, A, m, (INERTIA, MC)) # Rigid body representing wheel\n",
    "\n",
    "kd = [thdot - uth] # kinematic differential equation\n",
    "\n",
    "# FL = [(A,-m*g*r*sign(th)*A.z)] # force list\n",
    "FL = [(A, -m*g*r*sign(th)*A.z)] # moment changes direction depending on sign of angular displacement\n",
    "BL = [W] # body list"
   ]
  },
  {
   "cell_type": "code",
   "execution_count": 3,
   "id": "ab4ba3a5",
   "metadata": {},
   "outputs": [],
   "source": [
    "KM = KanesMethod(N, q_ind=[th], u_ind=[uth], kd_eqs=kd)\n",
    "(fr, frstar) = KM.kanes_equations(BL, FL)"
   ]
  },
  {
   "cell_type": "code",
   "execution_count": 4,
   "id": "f24a3d1a",
   "metadata": {},
   "outputs": [
    {
     "name": "stdout",
     "output_type": "stream",
     "text": [
      "Matrix([[I]])\n",
      "Matrix([[-g*m*r*sign(theta(t))]])\n"
     ]
    }
   ],
   "source": [
    "# KM.rhs()\n",
    "MASS = KM.mass_matrix\n",
    "FORCING = KM.forcing\n",
    "print(MASS)\n",
    "print(FORCING)\n",
    "# rhs = MASS.inv() * FORCING"
   ]
  },
  {
   "cell_type": "markdown",
   "id": "27b5e397",
   "metadata": {},
   "source": [
    "## Rolling Model"
   ]
  },
  {
   "cell_type": "code",
   "execution_count": 2,
   "id": "88612e52",
   "metadata": {},
   "outputs": [],
   "source": [
    "# Assume motion of the Maxwell wheel can be modelled as pure rotation about the rope\n",
    "\n",
    "th, uth = dynamicsymbols('theta u_theta') # generalized coordinates and velocities\n",
    "thdot, uthdot = dynamicsymbols('theta u_theta', 1) # derivatives of gen. coor. and vel.\n",
    "m, g, r, I = symbols('m g r I') # mass of the wheel\n",
    "\n",
    "N = ReferenceFrame('N') # Define the reference frame for the wheel\n",
    "# x is downward, y is to the right, z aligned along wheel's center of rotation\n",
    "A = N.orientnew('A', 'Axis', [th, N.z]) # wheel body-fixed frame\n",
    "A.set_ang_vel(N, uth * N.z) # wheel rotates at ang vel. of uth with respect to N.z\n",
    "\n",
    "IC = Point('IC') # Define zero velocity point on wheel\n",
    "IC.set_vel(N,0) # Set velocity of IC point\n",
    "MC = IC.locatenew('MC', r*sign(th)*N.y) # Point of wheel center of mass\n",
    "# MC.v2pt_theory(IC, N, A) # velocity of center of mass\n",
    "MC.set_vel(N,-r*uth*sign(th)*N.x)\n",
    "\n",
    "# I = outer(A.z, A.z) # Dyadic for inertia about center of mass\n",
    "INERTIA = inertia(A,0,0,I) # inertia about the center of mass\n",
    "W = RigidBody('W', MC, A, m, (INERTIA, MC)) # Rigid body representing wheel\n",
    "\n",
    "kd = [thdot - uth] # kinematic differential equation\n",
    "\n",
    "# FL = [(A,-m*g*r*sign(th)*A.z)] # force list\n",
    "FL = [(MC, m*g*N.x)]\n",
    "BL = [W] # body list"
   ]
  },
  {
   "cell_type": "code",
   "execution_count": 3,
   "id": "b9639c59",
   "metadata": {},
   "outputs": [],
   "source": [
    "KM = KanesMethod(N, q_ind=[th], u_ind=[uth], kd_eqs=kd)\n",
    "(fr, frstar) = KM.kanes_equations(BL, FL)"
   ]
  },
  {
   "cell_type": "code",
   "execution_count": 4,
   "id": "ec82288b",
   "metadata": {},
   "outputs": [
    {
     "name": "stdout",
     "output_type": "stream",
     "text": [
      "Matrix([[I + m*r**2*sign(theta(t))**2]])\n",
      "Matrix([[-g*m*r*sign(theta(t)) - m*r**2*u_theta(t)*sign(theta(t))*Derivative(sign(theta(t)), t)]])\n"
     ]
    }
   ],
   "source": [
    "# KM.rhs()\n",
    "MASS = KM.mass_matrix\n",
    "FORCING = KM.forcing\n",
    "print(MASS)\n",
    "print(FORCING)\n",
    "# rhs = MASS.inv() * FORCING"
   ]
  },
  {
   "cell_type": "code",
   "execution_count": null,
   "id": "f773480a",
   "metadata": {},
   "outputs": [],
   "source": []
  }
 ],
 "metadata": {
  "kernelspec": {
   "display_name": "Python [conda env:root] *",
   "language": "python",
   "name": "conda-root-py"
  },
  "language_info": {
   "codemirror_mode": {
    "name": "ipython",
    "version": 3
   },
   "file_extension": ".py",
   "mimetype": "text/x-python",
   "name": "python",
   "nbconvert_exporter": "python",
   "pygments_lexer": "ipython3",
   "version": "3.9.7"
  },
  "toc": {
   "base_numbering": 1,
   "nav_menu": {},
   "number_sections": true,
   "sideBar": true,
   "skip_h1_title": false,
   "title_cell": "Table of Contents",
   "title_sidebar": "Contents",
   "toc_cell": false,
   "toc_position": {},
   "toc_section_display": true,
   "toc_window_display": true
  }
 },
 "nbformat": 4,
 "nbformat_minor": 5
}
